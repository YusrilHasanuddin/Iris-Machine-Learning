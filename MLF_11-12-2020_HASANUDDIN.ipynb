{
 "cells": [
  {
   "cell_type": "markdown",
   "metadata": {},
   "source": [
    "# 1. Logistic regression"
   ]
  },
  {
   "cell_type": "markdown",
   "metadata": {},
   "source": [
    "## Exercise 1: Import needed modules"
   ]
  },
  {
   "cell_type": "code",
   "execution_count": 1,
   "metadata": {},
   "outputs": [],
   "source": [
    "import warnings\n",
    "warnings.filterwarnings('ignore')\n",
    "\n",
    "import pandas as pd\n",
    "import numpy as np\n",
    "import matplotlib.pyplot as plt\n",
    "import scipy.stats as stats\n",
    "import statsmodels.api as sm\n",
    "\n",
    "# Importing linear regression function\n",
    "import sklearn.linear_model as lm\n",
    "\n",
    "# Functions to calculate r-squared, MAE, RMSE\n",
    "from sklearn.metrics import r2_score, mean_absolute_error, mean_squared_error\n",
    "\n",
    "%matplotlib inline"
   ]
  },
  {
   "cell_type": "markdown",
   "metadata": {},
   "source": [
    "**Question:**\n",
    "1. For what purpose each of these modules was imported?\n",
    "\n",
    "**Answer:**"
   ]
  },
  {
   "cell_type": "raw",
   "metadata": {},
   "source": [
    "1. \n",
    "-import warnings (for importing library warning, later this library is used to ignore the warning).\n",
    "-import pandas as pd (for importing pandas library, later this library is used to make dataframe and several functions that is related to dataframe).\n",
    "-import numpy as np (for importing numpy library, later this library is used to work in array. As well in the domain of linear algebra, Fourier transform, and matrices.\n",
    "-import matplotlib.pyplot as plt (for importing pyplot in matplotlib library, later this library is used to make data visualization).\n",
    "-import scipy.stats as stats (for importing stats module in scipy library, later this library is used to do statistical functions).\n",
    "-import statsmodels.api as sm (for importing api module in statsmodel library, later this library is used to make statistical model).\n",
    "-import sklearn.linear_model as lm (for importing sklearn.linear_model library, later this library is used to make a machine learning model).\n",
    "-from sklearn.metrics import r2_score, mean_absolute_error, mean_squared_error ((for importing sklearn.linear_model library, later this library is used to make model evaluation)."
   ]
  },
  {
   "cell_type": "markdown",
   "metadata": {},
   "source": [
    "## Exercise 2: Input data\n",
    "Let's consider a use case where we have to predict students' test outcome i.e., **pass** (**1**) or **fail** (**0**) based on hours studied. In this case the outcome to be predicted is **discrete**."
   ]
  },
  {
   "cell_type": "code",
   "execution_count": 2,
   "metadata": {},
   "outputs": [
    {
     "name": "stdout",
     "output_type": "stream",
     "text": [
      "   Hours_Studied  Result\n",
      "0              2       0\n",
      "1              3       0\n",
      "2              4       0\n",
      "3              5       1\n",
      "4              6       1\n",
      "5              7       1\n",
      "6              8       1\n",
      "7              9       1\n",
      "8             10       1\n"
     ]
    }
   ],
   "source": [
    "# Load data\n",
    "df = pd.read_csv('Grade_Set_1_Classification.csv')\n",
    "\n",
    "print (df)"
   ]
  },
  {
   "cell_type": "markdown",
   "metadata": {},
   "source": [
    "**Question:**\n",
    "1. On what scales the individual variables are measured?\n",
    "\n",
    "**Answer:**"
   ]
  },
  {
   "cell_type": "raw",
   "metadata": {},
   "source": [
    "1. As integer for both Hours_Studied and Result variables."
   ]
  },
  {
   "cell_type": "markdown",
   "metadata": {},
   "source": [
    "## Exercise 3: Fit linear regression\n",
    "To classify the observation into **pass** or **fail** (**1** or **0**), let's build a linear regression and try to use a threshold i.e. anything over some value is **pass**, else **fail**."
   ]
  },
  {
   "cell_type": "code",
   "execution_count": 3,
   "metadata": {},
   "outputs": [
    {
     "name": "stdout",
     "output_type": "stream",
     "text": [
      "R-squared: 0.675\n",
      "Mean Absolute Error: 0.2296296296296296\n",
      "Root Mean Squared Error: 0.26874192494328497\n"
     ]
    },
    {
     "data": {
      "image/png": "[encoded data removed]",
      "text/plain": [
       "<Figure size 432x288 with 1 Axes>"
      ]
     },
     "metadata": {
      "needs_background": "light"
     },
     "output_type": "display_data"
    }
   ],
   "source": [
    "x = df.Hours_Studied[:, np.newaxis] # Independent variable\n",
    "y = df.Result                       # Dependent variable \n",
    "\n",
    "# Create linear regression object\n",
    "lr = lm.LinearRegression()\n",
    "\n",
    "# Train the model using the training sets\n",
    "lr.fit(x, y)\n",
    "\n",
    "# Plotting fitted line\n",
    "plt.scatter(x, y, color = 'black')\n",
    "plt.plot(x, lr.predict(x), color = 'blue', linewidth = 3)\n",
    "plt.title('Result vs Hours Studied')\n",
    "plt.ylabel('Result')\n",
    "plt.xlabel('Hours_Studied')\n",
    "\n",
    "# Add predict value to the data frame\n",
    "df['Result_Pred'] = lr.predict(x)\n",
    "\n",
    "# Using built-in function\n",
    "print ('R-squared:', r2_score(df.Result, df.Result_Pred))\n",
    "print ('Mean Absolute Error:', mean_absolute_error(df.Result, df.Result_Pred))\n",
    "print ('Root Mean Squared Error:', np.sqrt(mean_squared_error(df.Result, df.Result_Pred)))"
   ]
  },
  {
   "cell_type": "markdown",
   "metadata": {},
   "source": [
    "**Questions:**\n",
    "1. What result do we expect and what result have we obtained?\n",
    "2. Is linear regression capable of setting boundries to the classification of observations? Justify your answer.\n",
    "3. Can you propose another, better solution to this problem?\n",
    "\n",
    "**Answers:**"
   ]
  },
  {
   "cell_type": "raw",
   "metadata": {},
   "source": [
    "1. Since the method for this model is classification, so what we want is a line that will divide different data points to group them into classes. Points on one side of the line will be one class and points on the other side belong to another class. On the other hand, the model is above is using linear regression. \n",
    "2. Linear regression is not capable to do classification because the goal of linear regression is to make a line with a minimum Mean Absolute Error value. However, instead of making some boundaries from data points, linear regression would fit the data points into the line.\n",
    "3. In my opinion, it would be better if this classification is using KNN method."
   ]
  },
  {
   "cell_type": "markdown",
   "metadata": {},
   "source": [
    "## Exercise 4: Sigmoid function\n",
    "Draw a plot of the sigmoid function."
   ]
  },
  {
   "cell_type": "code",
   "execution_count": 4,
   "metadata": {},
   "outputs": [
    {
     "data": {
      "image/png": "[encoded data removed]",
      "text/plain": [
       "<Figure size 432x288 with 1 Axes>"
      ]
     },
     "metadata": {
      "needs_background": "light"
     },
     "output_type": "display_data"
    }
   ],
   "source": [
    "# Plot sigmoid function\n",
    "x = np.linspace(-10, 10, 100)\n",
    "y = 1.0 / (1.0 + np.exp(-x))\n",
    "\n",
    "plt.plot(x, y, 'r-', label ='logit')\n",
    "plt.legend(loc ='lower right')\n",
    "plt.show()"
   ]
  },
  {
   "cell_type": "markdown",
   "metadata": {},
   "source": [
    "**Question:**\n",
    "1. In your opinion, can the sigmoid function be better to classify the observations under investigation than the linear function? Justify your answer.\n",
    "\n",
    "**Answer:**"
   ]
  },
  {
   "cell_type": "raw",
   "metadata": {},
   "source": [
    "1. Yes, it would be better if the model is using sigmoid function. Since the model uses linear approximation, then the model will map the result of prediction with a logistic function for binary prediction."
   ]
  },
  {
   "cell_type": "markdown",
   "metadata": {},
   "source": [
    "## Exercise 5: Fit logistic regression\n",
    "The logistic regression model will use a sigmoid function."
   ]
  },
  {
   "cell_type": "code",
   "execution_count": 5,
   "metadata": {},
   "outputs": [
    {
     "name": "stdout",
     "output_type": "stream",
     "text": [
      "Predicted probability: [0.05368062 0.15313611 0.36565616 0.64757973 0.85417548 0.94916743\n",
      " 0.98347736 0.99475738 0.99834945]\n",
      "Predicted Class: [0 0 0 1 1 1 1 1 1]\n"
     ]
    },
    {
     "data": {
      "image/png": "[encoded data removed]",
      "text/plain": [
       "<Figure size 432x288 with 1 Axes>"
      ]
     },
     "metadata": {
      "needs_background": "light"
     },
     "output_type": "display_data"
    }
   ],
   "source": [
    "from sklearn.linear_model import LogisticRegression\n",
    "\n",
    "# Manually add intercept\n",
    "df['intercept'] = 1\n",
    "independent_variables = ['Hours_Studied', 'intercept']\n",
    "\n",
    "x = df[independent_variables]   # Independent variable\n",
    "y = df['Result']                # Dependent variable \n",
    "\n",
    "# Instantiate a logistic regression model, and fit with x and y\n",
    "model = LogisticRegression()\n",
    "model = model.fit(x, y)\n",
    "\n",
    "# Check the accuracy on the training set\n",
    "model.score(x, y)\n",
    "\n",
    "# The predict_proba() function returns array containing probability of y=0 and y=1\n",
    "print ('Predicted probability:', model.predict_proba(x)[:,1])\n",
    "\n",
    "# The predict() function gives convert the probability(y=1) values > 0.5 to 1 else 0\n",
    "print ('Predicted Class:', model.predict(x))\n",
    "\n",
    "# Plotting fitted line\n",
    "plt.scatter(df.Hours_Studied, y,  color = 'black')\n",
    "plt.yticks([0.0, 0.5, 1.0])\n",
    "plt.plot(df.Hours_Studied, model.predict_proba(x)[:,1], color = 'blue', linewidth = 3)\n",
    "plt.title('Result vs Hours Studied - Fitted Line')\n",
    "plt.ylabel('Result')\n",
    "plt.xlabel('Hours_Studied')\n",
    "plt.show()"
   ]
  },
  {
   "cell_type": "markdown",
   "metadata": {},
   "source": [
    "**Question:**\n",
    "1. What is the idea of classification using a logistical regression model? Explain this in a few sentences.\n",
    "\n",
    "**Answer:**"
   ]
  },
  {
   "cell_type": "raw",
   "metadata": {},
   "source": [
    "1. The idea of Logistic Regression is to build a regression model to predict the probability that a given data entry belongs to the category numbered. Like Linear regression assumes that the data follows a linear function, Logistic regression models the data using the sigmoid function."
   ]
  },
  {
   "cell_type": "markdown",
   "metadata": {},
   "source": [
    "## Exercise 6: Model evaluation"
   ]
  },
  {
   "cell_type": "code",
   "execution_count": 6,
   "metadata": {},
   "outputs": [
    {
     "name": "stdout",
     "output_type": "stream",
     "text": [
      "Accuracy: 1.0\n",
      "AUC: 1.0\n",
      "Confusion matrix:\n",
      " [[3 0]\n",
      " [0 6]]\n",
      "classification report:\n",
      "               precision    recall  f1-score   support\n",
      "\n",
      "           0       1.00      1.00      1.00         3\n",
      "           1       1.00      1.00      1.00         6\n",
      "\n",
      "    accuracy                           1.00         9\n",
      "   macro avg       1.00      1.00      1.00         9\n",
      "weighted avg       1.00      1.00      1.00         9\n",
      "\n"
     ]
    }
   ],
   "source": [
    "from sklearn import metrics\n",
    "\n",
    "# Generate evaluation metrics\n",
    "print ('Accuracy:', metrics.accuracy_score(y, model.predict(x)))\n",
    "print ('AUC:', metrics.roc_auc_score(y, model.predict_proba(x)[:,1]))\n",
    "\n",
    "print ('Confusion matrix:\\n', metrics.confusion_matrix(y, model.predict(x)))\n",
    "print ('classification report:\\n', metrics.classification_report(y, model.predict(x)))"
   ]
  },
  {
   "cell_type": "markdown",
   "metadata": {},
   "source": [
    "**Question:**\n",
    "1. How do you understand the individual performance metrics of the model?\n",
    "\n",
    "**Answer:**"
   ]
  },
  {
   "cell_type": "raw",
   "metadata": {},
   "source": [
    "1. The model is perfect because there is no false negative and false positive. Another proof for this statement that is the model has a perfect score for precision, recall, and f1-score."
   ]
  },
  {
   "cell_type": "markdown",
   "metadata": {},
   "source": [
    "## Exercise 7: ROC curve"
   ]
  },
  {
   "cell_type": "code",
   "execution_count": 7,
   "metadata": {},
   "outputs": [
    {
     "name": "stdout",
     "output_type": "stream",
     "text": [
      "ROC AUC: 1.00\n"
     ]
    },
    {
     "data": {
      "image/png": "[encoded data removed]",
      "text/plain": [
       "<Figure size 432x288 with 1 Axes>"
      ]
     },
     "metadata": {
      "needs_background": "light"
     },
     "output_type": "display_data"
    }
   ],
   "source": [
    "# Determine the false positive and true positive rates\n",
    "fpr, tpr, _ = metrics.roc_curve(y, model.predict_proba(x)[:,1])\n",
    " \n",
    "# Calculate the AUC\n",
    "roc_auc = metrics.auc(fpr, tpr)\n",
    "print ('ROC AUC: %0.2f' % roc_auc)\n",
    " \n",
    "# Plot of a ROC curve for a specific class\n",
    "plt.figure()\n",
    "plt.plot(fpr, tpr, label = 'ROC curve (area = %0.2f)' % roc_auc)\n",
    "plt.plot([0, 1], [0, 1], 'k--')\n",
    "plt.xlim([0.0, 1.0])\n",
    "plt.ylim([0.0, 1.05])\n",
    "plt.xlabel('False Positive Rate')\n",
    "plt.ylabel('True Positive Rate')\n",
    "plt.title('ROC Curve')\n",
    "plt.legend(loc = 'lower right')\n",
    "plt.show()"
   ]
  },
  {
   "cell_type": "markdown",
   "metadata": {},
   "source": [
    "**Question:**\n",
    "1. How can the model quality be evaluated on the basis of the ROC curve?\n",
    "\n",
    "**Answer:**"
   ]
  },
  {
   "cell_type": "raw",
   "metadata": {},
   "source": [
    "1. By evaluated True positive rate. if the value for true positive rate is close to 1 it would lead to the better model it can be. If the value for true positive rate is equal to 1 then it will consider as the perfect model. But, if the ROC curve is equal to random choice and even below that, it will lead to the worst model it can be."
   ]
  },
  {
   "cell_type": "markdown",
   "metadata": {},
   "source": [
    "## Exercise 8: Logistic regression diagnostics\n",
    "Inverse of regularization *C* (default value is 1) is one of the key aspect of fitting logistic regression line."
   ]
  },
  {
   "cell_type": "code",
   "execution_count": 8,
   "metadata": {},
   "outputs": [
    {
     "name": "stdout",
     "output_type": "stream",
     "text": [
      "C = 1 (default), Accuracy: 1.0\n",
      "C = 10, Accuracy: 1.0\n",
      "C = 100, Accuracy: 1.0\n",
      "C = 1000, Accuracy: 1.0\n"
     ]
    },
    {
     "data": {
      "image/png": "[encoded data removed]",
      "text/plain": [
       "<Figure size 432x288 with 1 Axes>"
      ]
     },
     "metadata": {
      "needs_background": "light"
     },
     "output_type": "display_data"
    }
   ],
   "source": [
    "# Instantiate a logistic regression model with default C value, and fit with x and y\n",
    "model = LogisticRegression()\n",
    "model = model.fit(x, y)\n",
    "\n",
    "# Check the accuracy on the training set\n",
    "print ('C = 1 (default), Accuracy:', metrics.accuracy_score(y, model.predict(x)))\n",
    "\n",
    "# Instantiate a logistic regression model with C=10, and fit with x and y\n",
    "model1 = LogisticRegression(C = 10)\n",
    "model1 = model1.fit(x, y)\n",
    "\n",
    "# Check the accuracy on the training set\n",
    "print ('C = 10, Accuracy:', metrics.accuracy_score(y, model1.predict(x)))\n",
    "\n",
    "# Instantiate a logistic regression model with C=100, and fit with x and y\n",
    "model2 = LogisticRegression(C = 100)\n",
    "model2 = model2.fit(x, y)\n",
    "\n",
    "# Check the accuracy on the training set\n",
    "print ('C = 100, Accuracy:', metrics.accuracy_score(y, model2.predict(x)))\n",
    "\n",
    "# Instantiate a logistic regression model with C=1000, and fit with x and y\n",
    "model3 = LogisticRegression(C = 1000)\n",
    "model3 = model3.fit(x, y)\n",
    "\n",
    "# Check the accuracy on the training set\n",
    "print ('C = 1000, Accuracy:', metrics.accuracy_score(y, model3.predict(x)))\n",
    "\n",
    "\n",
    "# Plotting fitted line\n",
    "plt.scatter(df.Hours_Studied, y,  color = 'black', label = 'Result')\n",
    "plt.yticks([0.0, 0.5, 1.0])\n",
    "plt.plot(df.Hours_Studied, model.predict_proba(x)[:,1], color = 'gray', linewidth = 2, label = 'C = 1.0')\n",
    "plt.plot(df.Hours_Studied, model1.predict_proba(x)[:,1], color = 'blue', linewidth = 2,label='C = 10')\n",
    "plt.plot(df.Hours_Studied, model2.predict_proba(x)[:,1], color = 'green', linewidth = 2,label = 'C = 100')\n",
    "plt.plot(df.Hours_Studied, model3.predict_proba(x)[:,1], color = 'red', linewidth = 2,label = 'C = 1000')\n",
    "plt.legend(loc = 'lower right') # Legend location\n",
    "plt.title('Result vs Hours Studied')\n",
    "plt.ylabel('Result')\n",
    "plt.xlabel('Hours_Studied')\n",
    "plt.show()"
   ]
  },
  {
   "cell_type": "markdown",
   "metadata": {},
   "source": [
    "**Question:**\n",
    "1. How does the *C* value affect the complexity of the model?\n",
    "\n",
    "**Answer:**"
   ]
  },
  {
   "cell_type": "raw",
   "metadata": {},
   "source": [
    "1. The inverse of regularization strength (C) is one of the key aspects of fitting a logistic regression line. It defines the complexity of the fitted line. The bigger value of complexity sometimes leads to a better model, but if the value of complexity is too bigger it will the model to be overfitting. "
   ]
  },
  {
   "cell_type": "markdown",
   "metadata": {},
   "source": [
    "# 2. Multivariable and multi-class logistic regression\n",
    "Let’s learn multiclass prediction with **Iris** dataset which contains 3 classes of 50 instances each, where each class refers to a type of Iris plant. "
   ]
  },
  {
   "cell_type": "markdown",
   "metadata": {},
   "source": [
    "## Exercise 9: Import needed modules"
   ]
  },
  {
   "cell_type": "code",
   "execution_count": 9,
   "metadata": {},
   "outputs": [
    {
     "name": "stdout",
     "output_type": "stream",
     "text": [
      "Class labels: [0 1 2]\n"
     ]
    }
   ],
   "source": [
    "from matplotlib.colors import ListedColormap\n",
    "import matplotlib.pyplot as plt\n",
    "%matplotlib inline\n",
    "\n",
    "from sklearn import datasets\n",
    "import numpy as np\n",
    "import pandas as pd\n",
    "\n",
    "iris = datasets.load_iris()\n",
    "\n",
    "X = iris.data\n",
    "Y = iris.target\n",
    "\n",
    "print('Class labels:', np.unique(Y))"
   ]
  },
  {
   "cell_type": "markdown",
   "metadata": {},
   "source": [
    "**Question:**\n",
    "1. For what purpose each of these modules was imported?\n",
    "\n",
    "**Answer:**"
   ]
  },
  {
   "cell_type": "raw",
   "metadata": {},
   "source": [
    "1.\n",
    "-from matplotlib.colors import ListedColormap (for importing ListedColormap from matplotlib.colors library, later this function is used to get list of colors for drawing plot).\n",
    "-import matplotlib.pyplot as plt (for importing pyplot in matplotlib library, later this library is used to make data visualization).\n",
    "-from sklearn import datasets (for importing datasets module in sklearn library, later this module is use to get iris datasest).\n",
    "-import pandas as pd (for importing pandas library, later this library is used to make dataframe and several functions that is related to dataframe).\n",
    "-import numpy as np (for importing numpy library, later this library is used to work in array. As well in the domain of linear algebra, Fourier transform, and matrices."
   ]
  },
  {
   "cell_type": "markdown",
   "metadata": {},
   "source": [
    "## Exercise 10: Normalize and split data"
   ]
  },
  {
   "cell_type": "code",
   "execution_count": 10,
   "metadata": {},
   "outputs": [],
   "source": [
    "from sklearn.preprocessing import StandardScaler\n",
    "\n",
    "sc = StandardScaler()\n",
    "sc.fit(X)\n",
    "X = sc.transform(X)\n",
    "\n",
    "# Split data into train and test\n",
    "from sklearn.model_selection import train_test_split\n",
    "X_train, X_test, Y_train, Y_test = train_test_split(X, Y, test_size = 0.3, random_state = 0)"
   ]
  },
  {
   "cell_type": "markdown",
   "metadata": {},
   "source": [
    "**Question:**\n",
    "1. What is the meaning of the operations performed? Explain them exactly.\n",
    "\n",
    "**Answer:**"
   ]
  },
  {
   "cell_type": "raw",
   "metadata": {},
   "source": [
    "1. First the system normalizes independent variables, then the system split the data into train data and test data. The amount of test data is 30% of the overall data. As well, the amount of train data is 70% of the overall data. The method for splitting here is using random."
   ]
  },
  {
   "cell_type": "markdown",
   "metadata": {},
   "source": [
    "## Exercise 11: Train and evaluate the logistic regression model"
   ]
  },
  {
   "cell_type": "code",
   "execution_count": 11,
   "metadata": {},
   "outputs": [
    {
     "name": "stdout",
     "output_type": "stream",
     "text": [
      "Train - Accuracy: 0.9809523809523809\n",
      "Train - Confusion matrix:\n",
      " [[34  0  0]\n",
      " [ 0 31  1]\n",
      " [ 0  1 38]]\n",
      "Train - classification report:\n",
      "               precision    recall  f1-score   support\n",
      "\n",
      "           0       1.00      1.00      1.00        34\n",
      "           1       0.97      0.97      0.97        32\n",
      "           2       0.97      0.97      0.97        39\n",
      "\n",
      "    accuracy                           0.98       105\n",
      "   macro avg       0.98      0.98      0.98       105\n",
      "weighted avg       0.98      0.98      0.98       105\n",
      "\n",
      "Test - Accuracy: 0.9777777777777777\n",
      "Test - Confusion matrix:\n",
      " [[16  0  0]\n",
      " [ 0 17  1]\n",
      " [ 0  0 11]]\n",
      "Test - classification report:\n",
      "               precision    recall  f1-score   support\n",
      "\n",
      "           0       1.00      1.00      1.00        16\n",
      "           1       1.00      0.94      0.97        18\n",
      "           2       0.92      1.00      0.96        11\n",
      "\n",
      "    accuracy                           0.98        45\n",
      "   macro avg       0.97      0.98      0.98        45\n",
      "weighted avg       0.98      0.98      0.98        45\n",
      "\n"
     ]
    }
   ],
   "source": [
    "from sklearn.linear_model import LogisticRegression\n",
    "\n",
    "lr = LogisticRegression(penalty = 'l2', C = 10, random_state = 0)\n",
    "lr.fit(X_train, Y_train)\n",
    "\n",
    "from sklearn import metrics\n",
    "\n",
    "# Generate evaluation metrics\n",
    "print('Train - Accuracy:', metrics.accuracy_score(Y_train, lr.predict(X_train)))\n",
    "print('Train - Confusion matrix:\\n', metrics.confusion_matrix(Y_train, lr.predict(X_train)))\n",
    "print('Train - classification report:\\n', metrics.classification_report(Y_train, lr.predict(X_train)))\n",
    "\n",
    "print('Test - Accuracy:', metrics.accuracy_score(Y_test, lr.predict(X_test)))\n",
    "print('Test - Confusion matrix:\\n', metrics.confusion_matrix(Y_test, lr.predict(X_test)))\n",
    "print('Test - classification report:\\n', metrics.classification_report(Y_test, lr.predict(X_test)))"
   ]
  },
  {
   "cell_type": "markdown",
   "metadata": {},
   "source": [
    "**Question:**\n",
    "1. What conclusions can you draw from the comparison of the model evaluation results for the training and test set?\n",
    "\n",
    "**Answer:**"
   ]
  },
  {
   "cell_type": "raw",
   "metadata": {},
   "source": [
    "1. From the confusion matrix, we know there are missing predictions, those missing predictions, which are below:\n",
    "1)actual label from data value (2) consider as (3)\n",
    "2)actual label from data value (3) consider as (2)\n",
    "For a better explanation, from case 1), the actual data is Versicolor, but it is predicted as Virginia. As well, from case 2) the actual data is Virginia, but it is predicted as Versicolor.\n",
    "It is also f1-score for defining the weighted average of precision and recall for each data label.\n",
    "It leads to the conclusion for the accuracy of this model is 98%."
   ]
  },
  {
   "cell_type": "markdown",
   "metadata": {},
   "source": [
    "# 3. Logistic regression diagnostics\n",
    "Overfitting occurs when the model fits the data very well capturing all the noises. Let's understand the issue by looking at some example dataset."
   ]
  },
  {
   "cell_type": "markdown",
   "metadata": {},
   "source": [
    "## Exercise 12: Fitting logistic regression for two independent variables which are linearly separable"
   ]
  },
  {
   "cell_type": "code",
   "execution_count": 12,
   "metadata": {},
   "outputs": [
    {
     "data": {
      "image/png": "[encoded data removed]",
      "text/plain": [
       "<Figure size 432x288 with 1 Axes>"
      ]
     },
     "metadata": {
      "needs_background": "light"
     },
     "output_type": "display_data"
    }
   ],
   "source": [
    "# Let's use sklearn make_classification() function to create some test data.\n",
    "from sklearn.datasets import make_classification\n",
    "X, Y = make_classification(100, 2, 2, 0, weights = [0.5, 0.5], random_state = 0) \n",
    "\n",
    "# Build a simple logistic regression model\n",
    "clf = LogisticRegression().fit(X, Y)\n",
    "\n",
    "def plot_decision_regions(X, Y, classifier):\n",
    "    \n",
    "    h = 0.02  # Step size in the mesh\n",
    "    # Setup marker generator and color map\n",
    "    markers = ('s', 'x', 'o', '^', 'v')\n",
    "    colors = ('red', 'blue', 'lightgreen', 'gray', 'cyan')\n",
    "    cmap = ListedColormap(colors[:len(np.unique(Y))])\n",
    "\n",
    "    # Plot the decision surface\n",
    "    x1_min, x1_max = X[:, 0].min() - 1, X[:, 0].max() + 1\n",
    "    x2_min, x2_max = X[:, 1].min() - 1, X[:, 1].max() + 1\n",
    "    xx1, xx2 = np.meshgrid(np.arange(x1_min, x1_max, h), np.arange(x2_min, x2_max, h))\n",
    "    Z = classifier.predict(np.array([xx1.ravel(), xx2.ravel()]).T)\n",
    "    Z = Z.reshape(xx1.shape)\n",
    "    plt.contourf(xx1, xx2, Z, alpha = 0.4, cmap = cmap)\n",
    "    plt.xlim(xx1.min(), xx1.max())\n",
    "    plt.ylim(xx2.min(), xx2.max())\n",
    "\n",
    "    for idx, cl in enumerate(np.unique(Y)):\n",
    "        plt.scatter(x = X[Y == cl, 0], y = X[Y == cl, 1],\n",
    "                    alpha = 0.8, color = cmap(idx),\n",
    "                    marker = markers[idx], label = cl)\n",
    "        \n",
    "# Plot the decision boundary\n",
    "plot_decision_regions(X, Y, classifier = clf)\n",
    "plt.xlabel('X1')\n",
    "plt.ylabel('X2')\n",
    "plt.legend(loc = 'upper left')\n",
    "plt.tight_layout()\n",
    "plt.show()"
   ]
  },
  {
   "cell_type": "markdown",
   "metadata": {},
   "source": [
    "**Question:**\n",
    "1. In your opinion, does the model of simple logistic regression built up discriminate well against the data set? Justify your answer.\n",
    "\n",
    "**Answer:**"
   ]
  },
  {
   "cell_type": "raw",
   "metadata": {},
   "source": [
    "1. Yes it does. Since the accuracy of this model is close to 100%. However, We know that there is no perfect model. "
   ]
  },
  {
   "cell_type": "markdown",
   "metadata": {},
   "source": [
    "## Exercise 13: Fitting logistic regression for two independent variables which are non-linearly separable"
   ]
  },
  {
   "cell_type": "code",
   "execution_count": 13,
   "metadata": {},
   "outputs": [
    {
     "data": {
      "image/png": "[encoded data removed]",
      "text/plain": [
       "<Figure size 432x432 with 1 Axes>"
      ]
     },
     "metadata": {
      "needs_background": "light"
     },
     "output_type": "display_data"
    }
   ],
   "source": [
    "import pandas as pd\n",
    "data = pd.read_csv('LR_NonLinear.csv')\n",
    "\n",
    "pos = data['class'] == 1\n",
    "neg = data['class'] == 0\n",
    "x1 = data['x1']\n",
    "x2 = data['x2']\n",
    "\n",
    "def draw_plot():\n",
    "    plt.figure(figsize = (6, 6))\n",
    "    plt.scatter(np.extract(pos, x1), \n",
    "                np.extract(pos, x2), \n",
    "                c = 'b', marker = 's', label = 'pos')\n",
    "    plt.scatter(np.extract(neg, x1), \n",
    "                np.extract(neg, x2), \n",
    "                c = 'r', marker = 'o', label = 'neg')\n",
    "    plt.xlabel('x1');\n",
    "    plt.ylabel('x2');\n",
    "    plt.axes().set_aspect('equal', 'datalim')\n",
    "    plt.legend();\n",
    "\n",
    "draw_plot()"
   ]
  },
  {
   "cell_type": "markdown",
   "metadata": {},
   "source": [
    "Create higher order polynomials for independent variable."
   ]
  },
  {
   "cell_type": "code",
   "execution_count": 14,
   "metadata": {},
   "outputs": [],
   "source": [
    "order_no = 6\n",
    "\n",
    "# Map the variable 1 & 2 to its higher order polynomial\n",
    "def map_features(variable_1, variable_2, order = order_no):\n",
    "    assert order >= 1\n",
    "    def iter():\n",
    "        for i in range(1, order + 1):\n",
    "            for j in range(i + 1):\n",
    "                yield np.power(variable_1, i - j) * np.power(variable_2, j)\n",
    "    return np.vstack(iter())\n",
    "   \n",
    "out = map_features(data['x1'], data['x2'], order = order_no)\n",
    "X = out.transpose()\n",
    "Y = data['class']\n",
    "\n",
    "# Split the data into train and test\n",
    "X_train, X_test, Y_train, Y_test = train_test_split(X, Y, test_size = 0.3, random_state = 0)"
   ]
  },
  {
   "cell_type": "markdown",
   "metadata": {},
   "source": [
    "By default L2 is the regularization for logistic regression."
   ]
  },
  {
   "cell_type": "code",
   "execution_count": 15,
   "metadata": {},
   "outputs": [
    {
     "name": "stdout",
     "output_type": "stream",
     "text": [
      "Train Accuracy for C = 0.002: 0.6181818181818182\n",
      "Test Accuracy for C = 0.002: 0.6056338028169014\n",
      "\n",
      "Train Accuracy for C = 1: 0.8363636363636363\n",
      "Test Accuracy for C = 1: 0.8028169014084507\n",
      "\n",
      "Train Accuracy for C = 10000: 0.8545454545454545\n",
      "Test Accuracy for C = 10000: 0.8028169014084507\n"
     ]
    },
    {
     "data": {
      "image/png": "[encoded data removed]",
      "text/plain": [
       "<Figure size 432x432 with 1 Axes>"
      ]
     },
     "metadata": {
      "needs_background": "light"
     },
     "output_type": "display_data"
    },
    {
     "data": {
      "image/png": "[encoded data removed]",
      "text/plain": [
       "<Figure size 432x432 with 1 Axes>"
      ]
     },
     "metadata": {
      "needs_background": "light"
     },
     "output_type": "display_data"
    },
    {
     "data": {
      "image/png": "[encoded data removed]",
      "text/plain": [
       "<Figure size 432x432 with 1 Axes>"
      ]
     },
     "metadata": {
      "needs_background": "light"
     },
     "output_type": "display_data"
    }
   ],
   "source": [
    "# Function to draw classifier line\n",
    "def draw_boundary(classifier):\n",
    "    dim = np.linspace(-0.8, 1.1, 100)\n",
    "    dx, dy = np.meshgrid(dim, dim)\n",
    "    v = map_features(dx.flatten(), dy.flatten(), order = order_no)\n",
    "    z = (np.dot(classifier.coef_, v) + classifier.intercept_).reshape(100, 100)\n",
    "    plt.contour(dx, dy, z, levels = [0], colors = ['r'])\n",
    "\n",
    "# Fit with C = 0.002\n",
    "clf = LogisticRegression(C = 0.002).fit(X_train, Y_train)\n",
    "print('Train Accuracy for C = 0.002:', clf.score(X_train, Y_train))\n",
    "print('Test Accuracy for C = 0.002:', clf.score(X_test, Y_test))\n",
    "draw_plot()\n",
    "plt.title('Fitting with C = 0.002')\n",
    "draw_boundary(clf)\n",
    "plt.legend(); \n",
    "\n",
    "# Fit with C = 1    \n",
    "clf = LogisticRegression(C = 1).fit(X_train, Y_train)\n",
    "print('\\nTrain Accuracy for C = 1:', clf.score(X_train, Y_train))\n",
    "print('Test Accuracy for C = 1:', clf.score(X_test, Y_test))\n",
    "draw_plot()\n",
    "plt.title('Fitting with C = 1')\n",
    "draw_boundary(clf)\n",
    "plt.legend();\n",
    "\n",
    "# Fit with C = 10000    \n",
    "clf = LogisticRegression(C = 10000).fit(X_train, Y_train)\n",
    "print('\\nTrain Accuracy for C = 10000:', clf.score(X_train, Y_train))\n",
    "print('Test Accuracy for C = 10000:', clf.score(X_test, Y_test))\n",
    "draw_plot()\n",
    "plt.title('Fitting with C = 10000')\n",
    "draw_boundary(clf)\n",
    "plt.legend();"
   ]
  },
  {
   "cell_type": "markdown",
   "metadata": {},
   "source": [
    "**Questions:**\n",
    "1. How will you justify the decision boundary for the individual C values?\n",
    "2. Which model do you think is the best? Justify your answer.\n",
    "\n",
    "**Answers:**"
   ]
  },
  {
   "cell_type": "raw",
   "metadata": {},
   "source": [
    "1. The inverse of regularization strength (C) is one of the key aspects of fitting a logistic regression line. It defines the fitted line's complexity. The bigger value of complexity sometimes leads to a better model, but if the value of complexity is too bigger, it will be overfitting. \n",
    "2. the best C value for this model is C=1 because it fits the overall data. Although it is not perfect, it is best for this model. Different from C=0.002 leads to underfitting, and C=10000 leads to overfitting."
   ]
  },
  {
   "cell_type": "markdown",
   "metadata": {},
   "source": [
    "# 4. Generalized linear model\n",
    "Generalized linear model (GLM) allows to unify commonly used various statistical models such as linear, logistic, poission, etc. The model is selected using the so-called family parameter."
   ]
  },
  {
   "cell_type": "markdown",
   "metadata": {},
   "source": [
    "## Exercise 14: Model building\n",
    "Lets consider a usecase where we have to predict students test outcome i.e., **pass** (**1**) or **fail** (**0**) based on hours studied. In this case the outcome to be predicted is **discrete**."
   ]
  },
  {
   "cell_type": "code",
   "execution_count": 16,
   "metadata": {},
   "outputs": [],
   "source": [
    "import pandas as pd\n",
    "import numpy as np\n",
    "import matplotlib.pyplot as plt\n",
    "import scipy.stats as stats\n",
    "\n",
    "# Importing linear regression function\n",
    "import sklearn.linear_model as lm\n",
    "\n",
    "# Function to calculate r-squared, MAE, RMSE\n",
    "from sklearn.metrics import r2_score , mean_absolute_error, mean_squared_error\n",
    "\n",
    "%matplotlib inline"
   ]
  },
  {
   "cell_type": "code",
   "execution_count": 17,
   "metadata": {},
   "outputs": [
    {
     "name": "stdout",
     "output_type": "stream",
     "text": [
      "   Hours_Studied  Test_Grade\n",
      "0              2          57\n",
      "1              3          66\n",
      "2              4          73\n",
      "3              5          76\n",
      "4              6          79\n",
      "5              7          81\n",
      "6              8          90\n",
      "7              9          96\n",
      "8             10         100\n"
     ]
    }
   ],
   "source": [
    "# Load data\n",
    "\n",
    "df = pd.read_csv('Grade_Set_1.csv')\n",
    "print(df)"
   ]
  },
  {
   "cell_type": "code",
   "execution_count": 18,
   "metadata": {},
   "outputs": [
    {
     "name": "stdout",
     "output_type": "stream",
     "text": [
      "####### Linear regression model ########\n",
      "Intercept: 49.67777777777776\n",
      "Coefficient: [5.01666667]\n",
      "\n",
      "####### Generalized linear model ########\n",
      "                 Generalized Linear Model Regression Results                  \n",
      "==============================================================================\n",
      "Dep. Variable:                      y   No. Observations:                    9\n",
      "Model:                            GLM   Df Residuals:                        7\n",
      "Model Family:                Gaussian   Df Model:                            1\n",
      "Link Function:               identity   Scale:                          5.3627\n",
      "Method:                          IRLS   Log-Likelihood:                -19.197\n",
      "Date:                Mon, 14 Dec 2020   Deviance:                       37.539\n",
      "Time:                        23:47:13   Pearson chi2:                     37.5\n",
      "No. Iterations:                     3                                         \n",
      "Covariance Type:            nonrobust                                         \n",
      "==============================================================================\n",
      "                 coef    std err          z      P>|z|      [0.025      0.975]\n",
      "------------------------------------------------------------------------------\n",
      "x1             5.0167      0.299     16.780      0.000       4.431       5.603\n",
      "const         49.6778      1.953     25.439      0.000      45.850      53.505\n",
      "==============================================================================\n"
     ]
    }
   ],
   "source": [
    "print('####### Linear regression model ########')\n",
    "# Create linear regression object\n",
    "lr = lm.LinearRegression()\n",
    "\n",
    "X = df.Hours_Studied[:, np.newaxis] # Independent variable\n",
    "Y = df.Test_Grade.values            # Dependent variable \n",
    "\n",
    "# Train the model using the training sets\n",
    "lr.fit(X, Y)\n",
    "\n",
    "print('Intercept:', lr.intercept_)\n",
    "print('Coefficient:', lr.coef_)\n",
    "\n",
    "print('\\n####### Generalized linear model ########')\n",
    "import statsmodels.api as sm\n",
    "\n",
    "# To be able to run GLM, we'll have to add the intercept constant to X variable\n",
    "X = sm.add_constant(X, prepend = False)\n",
    "\n",
    "# Instantiate a gaussian family model with the default link function.\n",
    "model = sm.GLM(Y, X, family = sm.families.Gaussian())\n",
    "model = model.fit()\n",
    "print(model.summary())"
   ]
  },
  {
   "cell_type": "markdown",
   "metadata": {},
   "source": [
    "**Questions:**\n",
    "1. What are the parameters *m* and *c* in the regression equation for the linear regression model and for GLM?\n",
    "2. What are the advantages of using a GLM?\n",
    "\n",
    "**Answers:**"
   ]
  },
  {
   "cell_type": "raw",
   "metadata": {},
   "source": [
    "1. given an equation y = mx + c\n",
    "For linear regression, c = 49.67777777777776, m = 5.01666667. For GLM, c = 49.6778, m = 5.0167\n",
    "2. The advantages of using a GLM over OLS are:\n",
    "-We do not need to transform the response Y to have a normal distribution\n",
    "-The choice of link is separate from the choice of random component thus we have more flexibility in modeling.\n",
    "-If the link produces additive effects, then we do not need constant variance.\n",
    "-The models are fitted via Maximum Likelihood estimation; thus optimal properties of the estimators.\n",
    "-All the inference tools and model checking that we will discuss for log-linear and logistic regression models apply for other GLMs too; e.g., Wald and Likelihood ratio tests, Deviance, Residuals, Confidence intervals, Overdispersion.\n",
    "Also, there is another benefits:\n",
    "-The response variable can have any form of exponential distribution type\n",
    "-Able to deal with categorical predictors\n",
    "-Relatively easy to interpret and allows a clear understanding of how each of the predictors are influencing the outcome\n",
    "-Less susceptible to overfitting than for example CTA or MARS algorithms"
   ]
  },
  {
   "cell_type": "markdown",
   "metadata": {},
   "source": [
    "# 5. Decision trees\n",
    "A decision tree is a tree-like structure. Internal node represents test on an attribute, each branch represents outcome of a test and each leaf node represents a class label - decision taken after computing all attributes. A path from root to leaf represents classification rules. Thus, a decision tree consists of 3 types of nodes:\n",
    "- root node;\n",
    "- branch node;\n",
    "- leaf node (class label).\n",
    "\n",
    "Advantage of decision tree is that there is no need of exclusive creation of dummy variables."
   ]
  },
  {
   "cell_type": "markdown",
   "metadata": {},
   "source": [
    "## Exercise 15: Multivariate and multi-class decision tree\n",
    "We will first load the **Iris** dataset from scikit-learn. Here, the third column represents the petal length, and the fourth column the petal width of the flower samples. The classes are already converted to integer labels where:\n",
    "- **0** = Iris-Setosa;\n",
    "- **1** = Iris-Versicolor;\n",
    "- **2** = Iris-Virginica."
   ]
  },
  {
   "cell_type": "code",
   "execution_count": 2,
   "metadata": {},
   "outputs": [
    {
     "name": "stdout",
     "output_type": "stream",
     "text": [
      "Class labels: [0 1 2]\n"
     ]
    }
   ],
   "source": [
    "import warnings\n",
    "warnings.filterwarnings('ignore')\n",
    "\n",
    "from matplotlib.colors import ListedColormap\n",
    "import matplotlib.pyplot as plt\n",
    "%matplotlib inline\n",
    "\n",
    "from sklearn import datasets\n",
    "import numpy as np\n",
    "import pandas as pd\n",
    "from sklearn import tree\n",
    "from sklearn import metrics\n",
    "\n",
    "iris = datasets.load_iris()\n",
    "X = iris.data\n",
    "Y = iris.target\n",
    "\n",
    "print('Class labels:', np.unique(Y))"
   ]
  },
  {
   "cell_type": "markdown",
   "metadata": {},
   "source": [
    "In the next step, we will perform the normalization and split data into train and test set."
   ]
  },
  {
   "cell_type": "code",
   "execution_count": 3,
   "metadata": {},
   "outputs": [],
   "source": [
    "from sklearn.preprocessing import StandardScaler\n",
    "\n",
    "sc = StandardScaler()\n",
    "sc.fit(X)\n",
    "X = sc.transform(X)\n",
    "\n",
    "# Split data into train and test\n",
    "from sklearn.model_selection import train_test_split\n",
    "X_train, X_test, Y_train, Y_test = train_test_split(X, Y, test_size = 0.3, random_state = 0)"
   ]
  },
  {
   "cell_type": "markdown",
   "metadata": {},
   "source": [
    "Now we can build and evaluate a classifier model."
   ]
  },
  {
   "cell_type": "code",
   "execution_count": 5,
   "metadata": {},
   "outputs": [
    {
     "name": "stdout",
     "output_type": "stream",
     "text": [
      "Train - Accuracy: 1.0\n",
      "Train - Confusion matrix:\n",
      " [[34  0  0]\n",
      " [ 0 32  0]\n",
      " [ 0  0 39]]\n",
      "Train - classification report:\n",
      "               precision    recall  f1-score   support\n",
      "\n",
      "           0       1.00      1.00      1.00        34\n",
      "           1       1.00      1.00      1.00        32\n",
      "           2       1.00      1.00      1.00        39\n",
      "\n",
      "    accuracy                           1.00       105\n",
      "   macro avg       1.00      1.00      1.00       105\n",
      "weighted avg       1.00      1.00      1.00       105\n",
      "\n",
      "\n",
      "Test - Accuracy: 0.9777777777777777\n",
      "Test - Confusion matrix:\n",
      " [[16  0  0]\n",
      " [ 0 17  1]\n",
      " [ 0  0 11]]\n",
      "Test - classification report:\n",
      "               precision    recall  f1-score   support\n",
      "\n",
      "           0       1.00      1.00      1.00        16\n",
      "           1       1.00      0.94      0.97        18\n",
      "           2       0.92      1.00      0.96        11\n",
      "\n",
      "    accuracy                           0.98        45\n",
      "   macro avg       0.97      0.98      0.98        45\n",
      "weighted avg       0.98      0.98      0.98        45\n",
      "\n"
     ]
    }
   ],
   "source": [
    "clf = tree.DecisionTreeClassifier(criterion = 'entropy', random_state = 0)\n",
    "clf.fit(X_train, Y_train)\n",
    "\n",
    "# Generate evaluation metrics\n",
    "print('Train - Accuracy:', metrics.accuracy_score(Y_train, clf.predict(X_train)))\n",
    "print('Train - Confusion matrix:\\n', metrics.confusion_matrix(Y_train, clf.predict(X_train)))\n",
    "print('Train - classification report:\\n', metrics.classification_report(Y_train, clf.predict(X_train)))\n",
    "\n",
    "print('\\nTest - Accuracy:', metrics.accuracy_score(Y_test, clf.predict(X_test)))\n",
    "print('Test - Confusion matrix:\\n', metrics.confusion_matrix(Y_test, clf.predict(X_test)))\n",
    "print('Test - classification report:\\n', metrics.classification_report(Y_test, clf.predict(X_test)))"
   ]
  },
  {
   "cell_type": "markdown",
   "metadata": {},
   "source": [
    "**Question:**\n",
    "1. What conclusions can you draw from the comparison of model evaluation results for the training and test set?\n",
    "\n",
    "**Answer:**"
   ]
  },
  {
   "cell_type": "raw",
   "metadata": {},
   "source": [
    "1.The reason why the confusion matrix is so perfect for training data is that the model already knows that data or the model is based on that data. Different from the test set, the model does not know the data until it predicted."
   ]
  },
  {
   "cell_type": "markdown",
   "metadata": {},
   "source": [
    "The structure and operation of the decision tree can be visualized by means of a graph.\n",
    "\n",
    "If errors occur, install the necessary libraries:\n",
    "- conda install -c conda-forge graphviz\n",
    "- conda install pydot\n",
    "\n",
    "and restart Jupyter notebook. After restart the Jupyter notebook, you have to do exercise 15 from the beginning to import the necessary modules."
   ]
  },
  {
   "cell_type": "code",
   "execution_count": null,
   "metadata": {},
   "outputs": [],
   "source": []
  },
  {
   "cell_type": "code",
   "execution_count": 6,
   "metadata": {},
   "outputs": [
    {
     "data": {
      "text/html": [
       "\n",
       "        <iframe\n",
       "            width=\"800\"\n",
       "            height=\"850\"\n",
       "            src=\"Iris.pdf\"\n",
       "            frameborder=\"0\"\n",
       "            allowfullscreen\n",
       "        ></iframe>\n",
       "        "
      ],
      "text/plain": [
       "<IPython.lib.display.IFrame at 0x1c55d63b508>"
      ]
     },
     "execution_count": 6,
     "metadata": {},
     "output_type": "execute_result"
    }
   ],
   "source": [
    "tree.export_graphviz(clf, out_file = 'tree.dot')\n",
    "\n",
    "from six import StringIO\n",
    "import pydot \n",
    "out_data = StringIO() \n",
    "\n",
    "tree.export_graphviz(clf, out_file = out_data,\n",
    "                    feature_names = iris.feature_names,\n",
    "                    class_names = clf.classes_.astype(int).astype(str),\n",
    "                    filled = True, rounded = True,\n",
    "                    special_characters = True,\n",
    "                    node_ids = 1) \n",
    "\n",
    "graph = pydot.graph_from_dot_data(out_data.getvalue()) \n",
    "graph[0].write_pdf('Iris.pdf')  # Save to pdf\n",
    "\n",
    "from IPython.display import IFrame\n",
    "IFrame('Iris.pdf', width = 800, height = 850)"
   ]
  },
  {
   "cell_type": "markdown",
   "metadata": {},
   "source": [
    "**Questions:**\n",
    "1. How will you describe the operation of a decision tree based on its graph? In the description, provide numerical values of the relevant features.\n",
    "2. Which feature proved to be irrelevant to the operation of the decision tree?\n",
    "\n",
    "**Answers:**"
   ]
  },
  {
   "cell_type": "raw",
   "metadata": {},
   "source": [
    "1. From node 0, the model would make a classification from the petal width. If the petal width (cm) ≤ -0.591, then the model will consider the data as label 0 (serosa). if false, the model is a move to node 2, if petal length (cm) ≤ 0.678, then the model is a move to node 3 classification, if false then the model is a move to node 4 classification. The model will go down until there is no condition in the node.\n",
    "2. Sepal length, because there is no classification based on sepal length in the decision tree."
   ]
  }
 ],
 "metadata": {
  "anaconda-cloud": {},
  "kernelspec": {
   "display_name": "Python 3",
   "language": "python",
   "name": "python3"
  },
  "language_info": {
   "codemirror_mode": {
    "name": "ipython",
    "version": 3
   },
   "file_extension": ".py",
   "mimetype": "text/x-python",
   "name": "python",
   "nbconvert_exporter": "python",
   "pygments_lexer": "ipython3",
   "version": "3.7.6"
  }
 },
 "nbformat": 4,
 "nbformat_minor": 1
}
